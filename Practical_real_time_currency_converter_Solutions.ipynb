{
  "nbformat": 4,
  "nbformat_minor": 0,
  "metadata": {
    "kernelspec": {
      "display_name": "Python 3",
      "language": "python",
      "name": "python3"
    },
    "language_info": {
      "codemirror_mode": {
        "name": "ipython",
        "version": 3
      },
      "file_extension": ".py",
      "mimetype": "text/x-python",
      "name": "python",
      "nbconvert_exporter": "python",
      "pygments_lexer": "ipython3",
      "version": "3.7.4"
    },
    "colab": {
      "name": "Practical - real time currency converter-Solutions.ipynb",
      "provenance": [],
      "include_colab_link": true
    }
  },
  "cells": [
    {
      "cell_type": "markdown",
      "metadata": {
        "id": "view-in-github",
        "colab_type": "text"
      },
      "source": [
        "<a href=\"https://colab.research.google.com/github/PrajolADSethi/Coursera_Capstone/blob/master/Practical_real_time_currency_converter_Solutions.ipynb\" target=\"_parent\"><img src=\"https://colab.research.google.com/assets/colab-badge.svg\" alt=\"Open In Colab\"/></a>"
      ]
    },
    {
      "cell_type": "code",
      "metadata": {
        "id": "YEiEeu-pAdkl"
      },
      "source": [
        "'''\n",
        "- Find a working API where we can access currencies (preferably with USD as the base currency) **important: the API must provide a json **\n",
        "============== TICK ===========================\n",
        "- Create a programme that can take a users currency and amount, and convert it into USD ========== TICK =================\n",
        "\n",
        "'''"
      ],
      "execution_count": null,
      "outputs": []
    },
    {
      "cell_type": "code",
      "metadata": {
        "id": "kGx5CFP2Adkp"
      },
      "source": [
        "import requests"
      ],
      "execution_count": 2,
      "outputs": []
    },
    {
      "cell_type": "code",
      "metadata": {
        "colab": {
          "base_uri": "https://localhost:8080/"
        },
        "id": "AmdXd6aXAdkq",
        "outputId": "178c6917-1518-4dd4-c6b3-26988535b25b"
      },
      "source": [
        "requests.get('https://api.exchangerate-api.com/v4/latest/USD')"
      ],
      "execution_count": 18,
      "outputs": [
        {
          "output_type": "execute_result",
          "data": {
            "text/plain": [
              "<Response [200]>"
            ]
          },
          "metadata": {
            "tags": []
          },
          "execution_count": 18
        }
      ]
    },
    {
      "cell_type": "code",
      "metadata": {
        "id": "HQqIPsndAdks"
      },
      "source": [
        "response = requests.get('https://api.exchangerate-api.com/v4/latest/USD')"
      ],
      "execution_count": 19,
      "outputs": []
    },
    {
      "cell_type": "code",
      "metadata": {
        "id": "G9Ywyzu7Adkt"
      },
      "source": [
        "currency_data = response.json()"
      ],
      "execution_count": 20,
      "outputs": []
    },
    {
      "cell_type": "code",
      "metadata": {
        "colab": {
          "base_uri": "https://localhost:8080/"
        },
        "id": "W-tdyVGwAdku",
        "outputId": "c9054263-8185-443e-bc94-084ae6e1538b"
      },
      "source": [
        "print(currency_data)"
      ],
      "execution_count": 21,
      "outputs": [
        {
          "output_type": "stream",
          "text": [
            "{'base': 'USD', 'date': '2021-02-16', 'time_last_updated': 1613433602, 'rates': {'USD': 1, 'AED': 3.6725, 'ARS': 88.501417, 'AUD': 1.285595, 'BGN': 1.611649, 'BRL': 5.367152, 'BSD': 1, 'CAD': 1.264318, 'CHF': 0.890538, 'CLP': 722.509936, 'CNY': 6.44092, 'COP': 3483.776112, 'CZK': 21.21566, 'DKK': 6.145688, 'DOP': 58.023105, 'EGP': 15.578814, 'EUR': 0.8238, 'FJD': 2.02429, 'GBP': 0.718424, 'GTQ': 7.744688, 'HKD': 7.752532, 'HRK': 6.206746, 'HUF': 295.982226, 'IDR': 13961.849238, 'ILS': 3.257605, 'INR': 72.588857, 'ISK': 128.283282, 'JPY': 105.299368, 'KRW': 1102.071875, 'KZT': 417.763396, 'MVR': 15.349355, 'MXN': 19.953099, 'MYR': 4.031739, 'NOK': 8.415675, 'NZD': 1.383267, 'PAB': 1, 'PEN': 3.646489, 'PHP': 47.914516, 'PKR': 158.51299, 'PLN': 3.700355, 'PYG': 6742.874349, 'RON': 4.015713, 'RUB': 73.359738, 'SAR': 3.75, 'SEK': 8.28658, 'SGD': 1.321403, 'THB': 29.891774, 'TRY': 6.968224, 'TWD': 27.958953, 'UAH': 27.969929, 'UYU': 42.657343, 'ZAR': 14.454887}}\n"
          ],
          "name": "stdout"
        }
      ]
    },
    {
      "cell_type": "code",
      "metadata": {
        "colab": {
          "base_uri": "https://localhost:8080/"
        },
        "id": "082X8_JKAdkv",
        "outputId": "f1682b35-794f-48fc-9572-ffa9ca4739e9"
      },
      "source": [
        "currency_data['rates']['INR']\r\n"
      ],
      "execution_count": 22,
      "outputs": [
        {
          "output_type": "execute_result",
          "data": {
            "text/plain": [
              "72.588857"
            ]
          },
          "metadata": {
            "tags": []
          },
          "execution_count": 22
        }
      ]
    },
    {
      "cell_type": "code",
      "metadata": {
        "colab": {
          "base_uri": "https://localhost:8080/"
        },
        "id": "1Ax-g0TOAdkv",
        "outputId": "0137b728-43a8-474e-f375-444adb2287c4"
      },
      "source": [
        "print('Welcome to the best currency converter ever!!')\n",
        "user_currency = input('Please enter the currency that you would like to use: ').upper()\n",
        "user_amount = int(input('Please enter the amount to convert into USD: '))\n",
        "\n",
        "amount_in_USD = currency_data['rates'][user_currency] * user_amount\n",
        "\n",
        "print('You have {} in {}. That is {} USD'.format(user_amount, user_currency, amount_in_USD))"
      ],
      "execution_count": 24,
      "outputs": [
        {
          "output_type": "stream",
          "text": [
            "Welcome to the best currency converter ever!!\n",
            "Please enter the currency that you would like to use: INR\n",
            "Please enter the amount to convert into USD: 2650\n",
            "You have 2650 in INR. That is 192360.47105000002 USD\n"
          ],
          "name": "stdout"
        }
      ]
    },
    {
      "cell_type": "code",
      "metadata": {
        "id": "1sJY1cW0Adkw"
      },
      "source": [
        ""
      ],
      "execution_count": null,
      "outputs": []
    }
  ]
}